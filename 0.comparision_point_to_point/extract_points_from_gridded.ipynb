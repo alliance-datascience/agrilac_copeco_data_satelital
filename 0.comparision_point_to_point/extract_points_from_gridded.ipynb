{
 "cells": [
  {
   "cell_type": "code",
   "execution_count": 1,
   "id": "57d22082-f071-467b-b1a9-5a7b079b65e4",
   "metadata": {},
   "outputs": [],
   "source": [
    "import pandas as pd\n",
    "import numpy as np\n",
    "import netCDF4 as nc\n",
    "import numpy as np\n",
    "import os\n",
    "from datetime import datetime"
   ]
  },
  {
   "cell_type": "code",
   "execution_count": 2,
   "id": "be844eaa-3c66-4e10-a3c6-7bf434d85980",
   "metadata": {},
   "outputs": [],
   "source": [
    "def extract_point(gridded_product, df_points, var_name):\n",
    "    st_names = df_points.iloc[:,0].values\n",
    "    coords = df_points.iloc[:,1:3].values.tolist()\n",
    "    \n",
    "   \n",
    "    start = datetime.strptime(\"1981-01-01\", \"%Y-%m-%d\")\n",
    "    end = datetime.strptime(\"2020-12-31\", \"%Y-%m-%d\")\n",
    "    datelist = pd.date_range(start,end)\n",
    "    years = [str(year) for year in range(start.year, end.year +1)]\n",
    "\n",
    "    if gridded_product == \"chirps_daily\" and var_name == 'precip':\n",
    "        path = \"Z:\\\\1.Data\\\\Honduras\\\\Clima\\\\Productos grillados\\\\CHIRPS\\\\daily\"\n",
    "        files_1 = os.listdir(path)\n",
    "        files_2 = [files_1[i] for i in range(len(files_1)) if any(s in files_1[i] for s in years)]\n",
    "        files = [os.path.join(path, f) for f in files_2 if f.endswith('.nc4')]\n",
    "\n",
    "    if gridded_product == \"chirps_monthly\" and var_name == 'precip':\n",
    "        path = \"Z:\\\\1.Data\\\\Honduras\\\\Clima\\\\Productos grillados\\\\CHIRPS\\\\monthly\"\n",
    "        files_1 = os.listdir(path)\n",
    "        files_2 = [files_1[i] for i in range(len(files_1)) if any(s in files_1[i] for s in years)]\n",
    "        files = [os.path.join(path, f) for f in files_2 if f.endswith('.nc4')]\n",
    "\n",
    "    if gridded_product == \"agera5\" and var_name == 'precip':\n",
    "        path = \"Z:\\\\1.Data\\\\Honduras\\\\Clima\\\\Productos grillados\\\\AgERA5\"\n",
    "        files_1 = os.listdir(path)\n",
    "        files_2 = [files_1[i] for i in range(len(files_1)) if any(s in files_1[i] for s in years)]\n",
    "        files = [os.path.join(path, f) for f in files_2 if f.endswith('.nc4') and 'prec' in f]\n",
    "\n",
    "\n",
    "    if gridded_product == \"agera5\" and var_name == 'tmax':\n",
    "        path = \"Z:\\\\1.Data\\\\Honduras\\\\Clima\\\\Productos grillados\\\\AgERA5\"\n",
    "        files_1 = os.listdir(path)\n",
    "        files_2 = [files_1[i] for i in range(len(files_1)) if any(s in files_1[i] for s in years)]\n",
    "        files = [os.path.join(path, f) for f in files_2 if f.endswith('.nc4') and 'tmax' in f]\n",
    "\n",
    "    if gridded_product == \"agera5\" and var_name == 'tmin':\n",
    "        path = \"Z:\\\\1.Data\\\\Honduras\\\\Clima\\\\Productos grillados\\\\AgERA5\"\n",
    "        files_1 = os.listdir(path)\n",
    "        files_2 = [files_1[i] for i in range(len(files_1)) if any(s in files_1[i] for s in years)]\n",
    "        files = [os.path.join(path, f) for f in files_2 if f.endswith('.nc4') and 'tmin' in f]\n",
    "\n",
    "    if gridded_product == \"imerg\" and var_name == 'precip':\n",
    "        start = datetime.strptime(\"2001-01-01\", \"%Y-%m-%d\")\n",
    "        datelist = pd.date_range(start,end)\n",
    "        years = [str(year) for year in range(start.year, end.year +1)]\n",
    "\n",
    "        \n",
    "        path = \"Z:\\\\1.Data\\\\Honduras\\\\Clima\\\\Productos grillados\\\\IMERG\"\n",
    "        files_1 = os.listdir(path)\n",
    "        files_2 = [files_1[i] for i in range(len(files_1)) if any(s in files_1[i] for s in years)]\n",
    "        files = [os.path.join(path, f) for f in files_2 if f.endswith('.nc4')]\n",
    "\n",
    "    if gridded_product == \"mswep\" and var_name == 'precip':\n",
    "        path = \"Z:\\\\1.Data\\\\Honduras\\\\Clima\\\\Productos grillados\\\\MSWEP\"\n",
    "        files_1 = os.listdir(path)\n",
    "        files_2 = [files_1[i] for i in range(len(files_1)) if any(s in files_1[i] for s in years)]\n",
    "        files = [os.path.join(path, f) for f in files_2 if f.endswith('.nc4')]\n",
    "\n",
    " \n",
    "    data = []\n",
    "    for file_path in files:\n",
    "        ds= nc.Dataset(file_path)\n",
    "        var = ds.variables[var_name][:]\n",
    "        data.append(var)\n",
    "    stacked_data = np.concatenate(data, axis=0)\n",
    "    \n",
    "    # Extract time and coordinate values\n",
    "    times = ds.variables['time'][:]\n",
    "    lats = ds.variables['latitude'][:]\n",
    "    lons = ds.variables['longitude'][:]\n",
    "\n",
    "    # Define coordinates of interest\n",
    "    # coords = [(14.7413889, -87.3694444), (14.4666667, -87.0680556)]\n",
    "\n",
    "\n",
    "\n",
    "\n",
    "    # Find the index of the coordinates in the netCDF file\n",
    "    lat_idx = np.searchsorted(lats, [coord[0] for coord in coords])\n",
    "    lon_idx = np.searchsorted(lons, [coord[1] for coord in coords])\n",
    "\n",
    "    # Extract time series for the coordinates of interest\n",
    "    time_series = pd.DataFrame(stacked_data[:, lat_idx, lon_idx], columns=[f\"({lat},{lon})\" for lat, lon in coords])\n",
    "    time_series.columns = df_points.iloc[:,0].values\n",
    "    time_series.set_index(datelist,inplace=True)\n",
    "    time_series.replace(-9999.0,np.nan, inplace=True)\n",
    "    \n",
    "    return time_series\n"
   ]
  },
  {
   "cell_type": "markdown",
   "id": "ed068a6f-6e45-4c94-91e0-7ad1ee45807c",
   "metadata": {},
   "source": [
    "# AgEra5"
   ]
  },
  {
   "cell_type": "code",
   "execution_count": 10,
   "id": "0a40b803-abc6-44b9-8110-033f1e0006d4",
   "metadata": {},
   "outputs": [],
   "source": [
    "df_points = pd.read_csv('Z:\\\\1.Data\\\\Honduras\\\\raw\\\\coordinates_temp.csv')\n",
    "df_tmax = extract_point(gridded_product = \"agera5\",\n",
    "              df_points = df_points,\n",
    "              var_name = 'tmax')\n",
    "\n",
    "df_tmax.to_csv(\"Z:\\\\1.Data\\\\Honduras\\\\raw\\\\daily\\\\agera5_tmax_daily.csv\")\n",
    "grouper = pd.Grouper(freq='M')\n",
    "t_max_monthly = df_tmax.groupby(grouper).agg(lambda x: x.mean(skipna=False))\n",
    "t_max_monthly.to_csv(\"Z:\\\\1.Data\\\\Honduras\\\\raw\\\\monthly\\\\agera5_tmax_monthly_mean.csv\")"
   ]
  },
  {
   "cell_type": "code",
   "execution_count": 11,
   "id": "d1c0ab75-2f97-4028-9938-c785b40034e4",
   "metadata": {},
   "outputs": [],
   "source": [
    "df_points = pd.read_csv('Z:\\\\1.Data\\\\Honduras\\\\raw\\\\coordinates_temp.csv')\n",
    "df_tmin = extract_point(gridded_product = \"agera5\",\n",
    "              df_points = df_points,\n",
    "              var_name = 'tmin')\n",
    "\n",
    "df_tmin.to_csv(\"Z:\\\\1.Data\\\\Honduras\\\\raw\\\\daily\\\\agera5_tmin_daily.csv\")\n",
    "grouper = pd.Grouper(freq='M')\n",
    "t_min_monthly = df_tmin.groupby(grouper).agg(lambda x: x.mean(skipna=False))\n",
    "t_min_monthly.to_csv(\"Z:\\\\1.Data\\\\Honduras\\\\raw\\\\monthly\\\\agera5_tmin_monthly_mean.csv\")"
   ]
  },
  {
   "cell_type": "code",
   "execution_count": 12,
   "id": "accad59a-6d17-4e29-9d1a-26d284ad8720",
   "metadata": {},
   "outputs": [],
   "source": [
    "df_points_prec = pd.read_csv('Z:\\\\1.Data\\\\Honduras\\\\raw\\\\coordinates_prec.csv')\n",
    "df_prec = extract_point(gridded_product = \"agera5\",\n",
    "              df_points = df_points_prec,\n",
    "              var_name = 'precip')\n",
    "\n",
    "df_prec.to_csv(\"Z:\\\\1.Data\\\\Honduras\\\\raw\\\\daily\\\\agera5_prec_daily.csv\")\n",
    "grouper = pd.Grouper(freq='M')\n",
    "prec_monthly = df_prec.groupby(grouper).agg(lambda x: x.sum(skipna=False))\n",
    "prec_monthly.to_csv(\"Z:\\\\1.Data\\\\Honduras\\\\raw\\\\monthly\\\\agera5_prec_monthly_sum.csv\")"
   ]
  },
  {
   "cell_type": "markdown",
   "id": "d6ebf6d5-148f-4ab9-b0dc-aeea7afc298d",
   "metadata": {},
   "source": [
    "# Chirps Monthly"
   ]
  },
  {
   "cell_type": "code",
   "execution_count": 31,
   "id": "781d3a05-1b04-4f7f-a093-bb6c28d6c610",
   "metadata": {},
   "outputs": [],
   "source": [
    "df_points = pd.read_csv('Z:\\\\1.Data\\\\Honduras\\\\raw\\\\coordinates_prec.csv')\n",
    "path = \"Z:\\\\1.Data\\\\Honduras\\\\Clima\\\\Productos grillados\\\\CHIRPS\\\\monthly\\\\CHIRPS_monthly_198101_202302.nc\"\n",
    "ds= nc.Dataset(path)\n",
    "stacked_data = ds.variables['precipitation'][:]\n"
   ]
  },
  {
   "cell_type": "code",
   "execution_count": 39,
   "id": "5207b0d8-d875-4a17-839d-a65995e96a61",
   "metadata": {},
   "outputs": [],
   "source": [
    "st_names = df_points.iloc[:,0].values\n",
    "coords = df_points.iloc[:,1:3].values.tolist()\n",
    "\n",
    "\n",
    "start = datetime.strptime(\"1981-01-01\", \"%Y-%m-%d\")\n",
    "end = datetime.strptime(\"2023-02-28\", \"%Y-%m-%d\")\n",
    "datelist = pd.date_range(start,end, freq='M')"
   ]
  },
  {
   "cell_type": "code",
   "execution_count": 41,
   "id": "672ddd36-1a08-4372-b5c4-62195d4188cd",
   "metadata": {},
   "outputs": [],
   "source": [
    "times = ds.variables['T'][:]\n",
    "lats = ds.variables['Y'][:]\n",
    "lons = ds.variables['X'][:]\n",
    "\n",
    "# Define coordinates of interest\n",
    "#coords = [(14.7413889, -87.3694444), (14.4666667, -87.0680556)]\n",
    "\n",
    "\n",
    "\n",
    "\n",
    "# Find the index of the coordinates in the netCDF file\n",
    "lat_idx = np.searchsorted(lats, [coord[0] for coord in coords])\n",
    "lon_idx = np.searchsorted(lons, [coord[1] for coord in coords])\n",
    "\n",
    "# Extract time series for the coordinates of interest\n",
    "time_series = pd.DataFrame(stacked_data[:, lat_idx, lon_idx], columns=[f\"({lat},{lon})\" for lat, lon in coords])\n",
    "time_series.columns = df_points.iloc[:,0].values\n",
    "time_series.set_index(datelist,inplace=True)\n",
    "time_series.replace(-9999.0,np.nan, inplace=True)\n",
    "  "
   ]
  },
  {
   "cell_type": "code",
   "execution_count": 43,
   "id": "0097dd83-f118-4be3-be37-4afdc8f16852",
   "metadata": {},
   "outputs": [],
   "source": [
    "time_series\n",
    "time_series.to_csv(\"Z:\\\\1.Data\\\\Honduras\\\\raw\\\\monthly\\\\chirps_prec_monthly_sum.csv\")"
   ]
  },
  {
   "cell_type": "markdown",
   "id": "4bc66aba-227d-4ae3-a88b-d8e99679dc5c",
   "metadata": {},
   "source": [
    "# IMERG"
   ]
  },
  {
   "cell_type": "code",
   "execution_count": 28,
   "id": "9582be93-a264-4836-943c-88f524eb31e4",
   "metadata": {},
   "outputs": [],
   "source": [
    "import math"
   ]
  },
  {
   "cell_type": "code",
   "execution_count": 13,
   "id": "f328718c-2eec-40df-a46b-4bcfa261b609",
   "metadata": {},
   "outputs": [],
   "source": [
    "df_points_prec = pd.read_csv('Z:\\\\1.Data\\\\Honduras\\\\raw\\\\coordinates_prec.csv')\n",
    "df_prec = extract_point(gridded_product = \"imerg\",\n",
    "              df_points = df_points_prec,\n",
    "              var_name = 'precip')\n",
    "\n",
    "df_prec.to_csv(\"Z:\\\\1.Data\\\\Honduras\\\\raw\\\\daily\\\\imerg_prec_daily.csv\")\n",
    "grouper = pd.Grouper(freq='M')\n",
    "prec_monthly = df_prec.groupby(grouper).agg(lambda x: x.sum(skipna=False))\n",
    "prec_monthly.to_csv(\"Z:\\\\1.Data\\\\Honduras\\\\raw\\\\monthly\\\\imerg_prec_monthly_sum.csv\")"
   ]
  },
  {
   "cell_type": "markdown",
   "id": "9b012363-3536-4934-9c83-8222a0a1fda6",
   "metadata": {},
   "source": [
    "# mswep"
   ]
  },
  {
   "cell_type": "code",
   "execution_count": 14,
   "id": "539383d0-b229-4971-9d64-a79c35dcfa2d",
   "metadata": {},
   "outputs": [],
   "source": [
    "df_points_prec = pd.read_csv('Z:\\\\1.Data\\\\Honduras\\\\raw\\\\coordinates_prec.csv')\n",
    "df_prec = extract_point(gridded_product = \"mswep\",\n",
    "              df_points = df_points_prec,\n",
    "              var_name = 'precip')\n",
    "\n",
    "df_prec.to_csv(\"Z:\\\\1.Data\\\\Honduras\\\\raw\\\\daily\\\\mswep_prec_daily.csv\")\n",
    "grouper = pd.Grouper(freq='M')\n",
    "prec_monthly = df_prec.groupby(grouper).agg(lambda x: x.sum(skipna=False))\n",
    "prec_monthly.to_csv(\"Z:\\\\1.Data\\\\Honduras\\\\raw\\\\monthly\\\\mswep_prec_monthly_sum.csv\")"
   ]
  },
  {
   "cell_type": "code",
   "execution_count": null,
   "id": "3c590cd2-dd41-4432-b878-b1cf15b0b230",
   "metadata": {},
   "outputs": [],
   "source": []
  }
 ],
 "metadata": {
  "kernelspec": {
   "display_name": "Python 3 (ipykernel)",
   "language": "python",
   "name": "python3"
  },
  "language_info": {
   "codemirror_mode": {
    "name": "ipython",
    "version": 3
   },
   "file_extension": ".py",
   "mimetype": "text/x-python",
   "name": "python",
   "nbconvert_exporter": "python",
   "pygments_lexer": "ipython3",
   "version": "3.9.12"
  }
 },
 "nbformat": 4,
 "nbformat_minor": 5
}
