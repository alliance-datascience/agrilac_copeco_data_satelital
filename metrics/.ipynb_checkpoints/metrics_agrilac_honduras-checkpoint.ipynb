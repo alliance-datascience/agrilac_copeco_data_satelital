{
 "cells": [
  {
   "cell_type": "markdown",
   "metadata": {
    "cell_id": "743dea660269421f8cc7187dae36a57d",
    "deepnote_app_coordinates": {
     "h": 5,
     "w": 12,
     "x": 0,
     "y": 1
    },
    "deepnote_cell_type": "text-cell-h1",
    "formattedRanges": [],
    "is_collapsed": false,
    "tags": []
   },
   "source": [
    "# metrics - honduras"
   ]
  },
  {
   "cell_type": "markdown",
   "metadata": {
    "cell_id": "2ff672a0921441d68955aa87cada439f",
    "deepnote_app_coordinates": {
     "h": 5,
     "w": 12,
     "x": 0,
     "y": 1
    },
    "deepnote_cell_type": "text-cell-p",
    "formattedRanges": [],
    "is_collapsed": false,
    "tags": []
   },
   "source": [
    "Abril 2023"
   ]
  },
  {
   "cell_type": "markdown",
   "metadata": {
    "cell_id": "43f6b33de2fe4e6789e9598d84aef4fa",
    "deepnote_app_coordinates": {
     "h": 5,
     "w": 12,
     "x": 0,
     "y": 13
    },
    "deepnote_cell_type": "text-cell-h3",
    "formattedRanges": [],
    "is_collapsed": false,
    "tags": []
   },
   "source": [
    "### Diana Jaimes"
   ]
  },
  {
   "cell_type": "code",
   "execution_count": 1,
   "metadata": {
    "cell_id": "cc6c5c6728ee4479bf65d00c10dc07f6",
    "deepnote_app_coordinates": {
     "h": 5,
     "w": 12,
     "x": 0,
     "y": 19
    },
    "deepnote_cell_type": "code",
    "deepnote_to_be_reexecuted": false,
    "execution_millis": 1576,
    "execution_start": 1679605331053,
    "output_cleared": false,
    "source_hash": "23d17f44",
    "tags": []
   },
   "outputs": [],
   "source": [
    "import pandas as pd\n",
    "import numpy as np\n",
    "import seaborn as sns\n",
    "import math\n",
    "import glob\n",
    "import datetime\n",
    "from datetime import datetime\n",
    "import re\n",
    "from datetime import datetime, date, timedelta\n",
    "\n",
    "\n",
    "##=====================================================\n",
    "#metrics\n",
    "##=====================================================\n",
    "\n",
    "\n",
    "from sklearn.metrics import r2_score, mean_squared_error\n",
    "from scipy.stats import kendalltau\n",
    "import scipy.stats as stats\n"
   ]
  },
  {
   "cell_type": "code",
   "execution_count": 2,
   "metadata": {},
   "outputs": [],
   "source": [
    "pd.set_option('display.max_columns', None)\n",
    "import warnings\n",
    "warnings.filterwarnings('ignore')"
   ]
  },
  {
   "cell_type": "markdown",
   "metadata": {
    "cell_id": "3f7c71c15d3c44f3954d6e36dab30687",
    "deepnote_app_coordinates": {
     "h": 5,
     "w": 12,
     "x": 0,
     "y": 0
    },
    "deepnote_cell_type": "text-cell-h1",
    "formattedRanges": [],
    "is_collapsed": false,
    "tags": []
   },
   "source": [
    "# Parameters:"
   ]
  },
  {
   "cell_type": "code",
   "execution_count": 12,
   "metadata": {},
   "outputs": [],
   "source": [
    "folder = 'Z:\\\\1.Data\\\\Honduras\\\\transformed\\\\monthly_agg\\\\'\n",
    "feature = 'prec'\n",
    "output_path='Z:\\\\1.Data\\\\Honduras\\\\results\\\\metrics\\\\'\n",
    "overall_file='metrics_overall.csv'\n",
    "monthly_file='metrics_monthly.csv'"
   ]
  },
  {
   "cell_type": "markdown",
   "metadata": {},
   "source": [
    "# Fuctions"
   ]
  },
  {
   "cell_type": "code",
   "execution_count": 20,
   "metadata": {},
   "outputs": [],
   "source": [
    "def read_files(path_folder:str,\n",
    "               feature\n",
    "              )-> list:\n",
    "    \"\"\"\n",
    "    function to identify the files of the observed stations and satellite data.\n",
    "\n",
    "    Args:\n",
    "        path_folder(str): Folder path\n",
    "        feature(str): feature to read\n",
    "    Returns:\n",
    "        (list) : Lists with all concatenated files. \n",
    "        The first list corresponds to the observed data files and the second to the satellite data files.\n",
    "\n",
    "    \"\"\"\n",
    "    filenames = glob.glob(\n",
    "        path_folder + \"/*.csv\"\n",
    "    )\n",
    "    files_feat = [s for s in filenames if feature in s]\n",
    "    obs_stations_file = [s for s in files_feat if 'obs' in s]\n",
    "    satellites_file = [i for i in set(files_feat) if i not in obs_stations_file]\n",
    "    return obs_stations_file, satellites_file \n",
    "\n",
    "def fun_get_data_grid(folder,\n",
    "                      feature\n",
    "                     )-> pd.DataFrame:\n",
    "    \"\"\"\n",
    "    function to read data from both satellite and station files\n",
    "\n",
    "    Args:\n",
    "        path_folder(str): Folder path\n",
    "        feature(str): feature to read\n",
    "    Returns:\n",
    "        df_stations(df) : dataframe with station data\n",
    "        data_grid(df) :dataframe with satellital data\n",
    "    \"\"\"\n",
    "    station_data, grid_data = read_files(folder, feature)\n",
    "    df_stations = pd.read_csv(\n",
    "        station_data[0]\n",
    "    ).rename(\n",
    "        columns={'Unnamed: 0':'date'}\n",
    "    )\n",
    "    df_stations['date'] = pd.to_datetime(df_stations['date'])\n",
    "    df_stations.set_index('date', inplace=True)\n",
    "    df_stations['source'] = 'obs_stations'\n",
    "    \n",
    "    data_grid = pd.DataFrame()\n",
    "    for file in grid_data:\n",
    "        df_gridded = pd.read_csv(file).rename(\n",
    "            columns={'Unnamed: 0':'date'}\n",
    "        )\n",
    "        df_gridded['date'] = pd.to_datetime(df_gridded['date'])\n",
    "        df_gridded.set_index('date', inplace=True)\n",
    "        name = file[file.find(folder) + len(folder):file.find(feature)-1]\n",
    "        df_gridded['source'] = name\n",
    "        data_grid = pd.concat(\n",
    "            [data_grid, df_gridded],\n",
    "            axis=0\n",
    "        )\n",
    "    return df_stations, data_grid\n",
    "\n",
    "def overall_metrics(df_reference,\n",
    "                    df_comparison)-> pd.DataFrame:\n",
    "    \"\"\"\n",
    "        Function that calculates comparison metrics between station data and satellite data.\n",
    "        The data sets are within the same time period.\n",
    "    Args:\n",
    "        df_reference(str):Reference dataset, namely the data from the stations.\n",
    "        df_comparison(str): Comparison dataset, namely the data from satellite sources.\n",
    "    Returns:\n",
    "        rta(df) : Dataframe with the obtained metrics, where the indices are the stations,\n",
    "        the columns are the metrics and the compared satellite source.\n",
    "    \n",
    "    \"\"\"\n",
    "    metrics = ['r2', 'rmse', 'kendall', 'spearman','mape','maape', 'source']\n",
    "    results = pd.DataFrame(columns=metrics)\n",
    "    rta = pd.DataFrame()\n",
    "    for source in df_comparison.source.unique():\n",
    "        for column in df_reference.columns[:-2]:\n",
    "            ref = df_reference[column].dropna()\n",
    "            comparison = df_comparison[df_comparison.source==source][column].dropna()\n",
    "            #This guarantees that the dataframes are within the same range of dates\n",
    "            common_dates = ref.index.intersection(comparison.index).to_list()\n",
    "            if len(common_dates)!=0:\n",
    "                ref_comm = ref.loc[common_dates]\n",
    "                comparison_comm = comparison.loc[common_dates]\n",
    "                r2 = r2_score(ref_comm, comparison_comm)\n",
    "                rmse = mean_squared_error(ref_comm, comparison_comm)\n",
    "                tau, pvalue = kendalltau(ref_comm, comparison_comm)\n",
    "                corr, p_value = stats.spearmanr(ref_comm, comparison_comm)\n",
    "                #Division by zero is avoided by adding 0.1 to change the reference\n",
    "                if ref_comm.min()==0 or comparison_comm.min()==0:\n",
    "                    mape=np.mean(\n",
    "                        np.abs(\n",
    "                        ((ref_comm+0.1) - (comparison_comm+0.1)) / (ref_comm+0.1))\n",
    "                    ) * 100\n",
    "                    maape= np.mean(\n",
    "                        np.arctan(np.abs(\n",
    "                        ((ref_comm+0.1) - (comparison_comm+0.1)) / (ref_comm+0.1)))\n",
    "                    )\n",
    "                    results.loc[column] = [r2, rmse, tau, corr, mape,maape, source]\n",
    "                else:\n",
    "                    mape=np.mean(\n",
    "                        np.abs(\n",
    "                            (ref_comm - comparison_comm) / ref_comm))*100\n",
    "                    maape=np.mean(np.arctan(np.abs(\n",
    "                            (ref_comm - comparison_comm) / ref_comm)))\n",
    "                    results.loc[column] = [r2, rmse, tau,corr, mape,maape, source]\n",
    "            else:\n",
    "                results.loc[column] = [np.nan, np.nan, np.nan, np.nan,np.nan,np.nan, source]\n",
    "        rta =  pd.concat([rta, results], ignore_index=False, axis=0)\n",
    "    return rta\n",
    "\n",
    "def monthly_metrics(df_reference, df_comparison):\n",
    "    \"\"\"\n",
    "        Function that calculates comparison metrics between station data and satellite data for each month\n",
    "        (using the mean as the aggregation function). Datasets are within the same time period.\n",
    "    Args:\n",
    "        df_reference(str):Reference dataset, namely the data from the stations.\n",
    "        df_comparison(str): Comparison dataset, namely the data from satellite sources.\n",
    "    Returns:\n",
    "        rta(df) : Dataframe with the obtained metrics, where the indices are the stations,\n",
    "        the columns are the metrics and the compared satellite source.\n",
    "    \"\"\"\n",
    "    metrics = ['r2', 'rmse', 'kendall','spearman','mape','maape', 'month', 'source']\n",
    "    results = pd.DataFrame(columns=metrics)\n",
    "    rta=  pd.DataFrame()\n",
    "    for i in range(1,13):\n",
    "        for source in df_comparison.source.unique():\n",
    "            for column in df_reference.columns[:-2]:\n",
    "                ref = df_reference[column].dropna()\n",
    "                comparison = df_comparison[df_comparison.source==source][column].dropna()\n",
    "                common_dates = ref.index.intersection(comparison.index).to_list()\n",
    "                if len(common_dates)!=0:\n",
    "                    ref_ = ref.loc[common_dates].to_frame()\n",
    "                    com_ = comparison.loc[common_dates].to_frame()\n",
    "                    ref_['month'] = ref_.index.month\n",
    "                    com_['month'] = com_.index.month\n",
    "                    ref_comm = ref_[['month', column]]\n",
    "                    comparison_comm =com_[['month', column]]\n",
    "                    test=ref_comm[ref_comm.month==i][column]\n",
    "                    test2 = comparison_comm[comparison_comm.month==i][column]\n",
    "                    r2 = r2_score(test, test2)\n",
    "                    rmse=mean_squared_error(test, test2)\n",
    "                    tau, pvalue= kendalltau(test, test2)\n",
    "                    corr, p_value = stats.spearmanr(test, test2)\n",
    "                    #Division by zero is avoided by adding 0.1 to change the reference\n",
    "                    if test.min()==0 or test2.min()==0:\n",
    "                        mape=np.mean(np.abs(((test+1) - (test2+1)) / (test+1))) * 100\n",
    "                        maape=np.mean(np.arctan(np.abs(((test+1) - (test2+1)) / (test+1))))\n",
    "                        results.loc[column]=[r2, rmse, tau,corr,mape,maape, i, source]\n",
    "                    else:\n",
    "                        mape=np.mean(np.abs((test - test2) / test)) * 100\n",
    "                        maape=np.mean(np.arctan(np.abs((test - test2) / test)))\n",
    "                        results.loc[column]=[r2, rmse, tau,corr,mape, maape, i, source]\n",
    "                else:\n",
    "                    results.loc[column]=[np.nan,np.nan, np.nan, np.nan, np.nan, np.nan, i, source]\n",
    "                \n",
    "            rta =  pd.concat([rta, results], ignore_index=False, axis=0)\n",
    "    return rta"
   ]
  },
  {
   "cell_type": "markdown",
   "metadata": {},
   "source": [
    "# Execution"
   ]
  },
  {
   "cell_type": "code",
   "execution_count": 14,
   "metadata": {},
   "outputs": [],
   "source": [
    "df_stations, df_gridded = fun_get_data_grid(folder, feature)"
   ]
  },
  {
   "cell_type": "code",
   "execution_count": 18,
   "metadata": {},
   "outputs": [],
   "source": [
    "overall_metrics(df_stations, df_gridded).to_csv(output_path + feature + '_'+ overall_file)"
   ]
  },
  {
   "cell_type": "code",
   "execution_count": 21,
   "metadata": {},
   "outputs": [],
   "source": [
    "monthly_metrics(df_stations, df_gridded).to_csv(output_path + feature + '_'+ monthly_file)"
   ]
  },
  {
   "cell_type": "code",
   "execution_count": null,
   "metadata": {},
   "outputs": [],
   "source": []
  }
 ],
 "metadata": {
  "deepnote": {},
  "deepnote_app_layout": "article",
  "deepnote_execution_queue": [],
  "deepnote_notebook_id": "d04c7d4883184b35b210d1fcd127e0bf",
  "kernelspec": {
   "display_name": "Python 3 (ipykernel)",
   "language": "python",
   "name": "python3"
  },
  "language_info": {
   "codemirror_mode": {
    "name": "ipython",
    "version": 3
   },
   "file_extension": ".py",
   "mimetype": "text/x-python",
   "name": "python",
   "nbconvert_exporter": "python",
   "pygments_lexer": "ipython3",
   "version": "3.10.9"
  },
  "vscode": {
   "interpreter": {
    "hash": "a2b7fe2f4350c5cab9bc8f0dbc6567e42b5efc67a81f41f8aef09587b0b2551b"
   }
  }
 },
 "nbformat": 4,
 "nbformat_minor": 1
}
